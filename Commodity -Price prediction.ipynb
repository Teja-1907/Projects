{
  "nbformat": 4,
  "nbformat_minor": 0,
  "metadata": {
    "colab": {
      "provenance": []
    },
    "kernelspec": {
      "name": "python3",
      "display_name": "Python 3"
    },
    "language_info": {
      "name": "python"
    }
  },
  "cells": [
    {
      "cell_type": "markdown",
      "source": [
        "IMPORT REQUIRED LIBRARIES"
      ],
      "metadata": {
        "id": "YZlSy6el19rN"
      }
    },
    {
      "cell_type": "code",
      "source": [
        "import matplotlib\n",
        "import matplotlib.pyplot as plt\n",
        "import numpy as np\n",
        "from sklearn import datasets, linear_model\n",
        "import pandas as pd"
      ],
      "metadata": {
        "id": "9yyOIjcNrqIJ"
      },
      "execution_count": null,
      "outputs": []
    },
    {
      "cell_type": "markdown",
      "source": [
        "MOUNTING DRIVE"
      ],
      "metadata": {
        "id": "N5l29eDX1yEc"
      }
    },
    {
      "cell_type": "code",
      "source": [
        "from google.colab import drive\n",
        "drive.mount('/content/drive')"
      ],
      "metadata": {
        "id": "Ash_ngEdvUwd",
        "colab": {
          "base_uri": "https://localhost:8080/"
        },
        "outputId": "2a916b33-bb6d-4cdf-f35e-eeca00a5db87"
      },
      "execution_count": null,
      "outputs": [
        {
          "output_type": "stream",
          "name": "stdout",
          "text": [
            "Drive already mounted at /content/drive; to attempt to forcibly remount, call drive.mount(\"/content/drive\", force_remount=True).\n"
          ]
        }
      ]
    },
    {
      "cell_type": "markdown",
      "source": [
        "IMPORTING DATASET"
      ],
      "metadata": {
        "id": "2bFUHH142FUy"
      }
    },
    {
      "cell_type": "code",
      "source": [
        "df = pd.read_csv(\"/content/drive/MyDrive/UROP/trail/day dataset - Sheet1 - day dataset - Sheet1.csv\")\n",
        "df"
      ],
      "metadata": {
        "colab": {
          "base_uri": "https://localhost:8080/",
          "height": 424
        },
        "id": "k4pWZVtXrx3O",
        "outputId": "fbf10225-ca44-4e57-fc3e-d727c5f3ed65"
      },
      "execution_count": null,
      "outputs": [
        {
          "output_type": "execute_result",
          "data": {
            "text/plain": [
              "       Day  variety334  varietyNo5  variety273  varietyTeja  varietyBadiga  \\\n",
              "0        1        9500       10000        9700         9900           9900   \n",
              "1        2        9500       10400        9900         9800          10700   \n",
              "2        3        9400       10800        9800         9700          10500   \n",
              "3        4        9400       11200        9800         9600          10800   \n",
              "4        5        9600       11000        9800         9600          10900   \n",
              "...    ...         ...         ...         ...          ...            ...   \n",
              "1045  1046       16500       15000       16000        18000          18000   \n",
              "1046  1047       16500       15000       18000        17000          18000   \n",
              "1047  1048       16000       16000       16000        17000          19500   \n",
              "1048  1049       16500       17000       17000        17000          19500   \n",
              "1049  1050       16500       14500       18500        17000          18500   \n",
              "\n",
              "      varietyWhite  \n",
              "0             6400  \n",
              "1             6300  \n",
              "2             6200  \n",
              "3             6300  \n",
              "4             6300  \n",
              "...            ...  \n",
              "1045          8000  \n",
              "1046          8000  \n",
              "1047          8000  \n",
              "1048          8000  \n",
              "1049          8500  \n",
              "\n",
              "[1050 rows x 7 columns]"
            ],
            "text/html": [
              "\n",
              "  <div id=\"df-b814295a-2473-4bfb-8774-35015e50e194\">\n",
              "    <div class=\"colab-df-container\">\n",
              "      <div>\n",
              "<style scoped>\n",
              "    .dataframe tbody tr th:only-of-type {\n",
              "        vertical-align: middle;\n",
              "    }\n",
              "\n",
              "    .dataframe tbody tr th {\n",
              "        vertical-align: top;\n",
              "    }\n",
              "\n",
              "    .dataframe thead th {\n",
              "        text-align: right;\n",
              "    }\n",
              "</style>\n",
              "<table border=\"1\" class=\"dataframe\">\n",
              "  <thead>\n",
              "    <tr style=\"text-align: right;\">\n",
              "      <th></th>\n",
              "      <th>Day</th>\n",
              "      <th>variety334</th>\n",
              "      <th>varietyNo5</th>\n",
              "      <th>variety273</th>\n",
              "      <th>varietyTeja</th>\n",
              "      <th>varietyBadiga</th>\n",
              "      <th>varietyWhite</th>\n",
              "    </tr>\n",
              "  </thead>\n",
              "  <tbody>\n",
              "    <tr>\n",
              "      <th>0</th>\n",
              "      <td>1</td>\n",
              "      <td>9500</td>\n",
              "      <td>10000</td>\n",
              "      <td>9700</td>\n",
              "      <td>9900</td>\n",
              "      <td>9900</td>\n",
              "      <td>6400</td>\n",
              "    </tr>\n",
              "    <tr>\n",
              "      <th>1</th>\n",
              "      <td>2</td>\n",
              "      <td>9500</td>\n",
              "      <td>10400</td>\n",
              "      <td>9900</td>\n",
              "      <td>9800</td>\n",
              "      <td>10700</td>\n",
              "      <td>6300</td>\n",
              "    </tr>\n",
              "    <tr>\n",
              "      <th>2</th>\n",
              "      <td>3</td>\n",
              "      <td>9400</td>\n",
              "      <td>10800</td>\n",
              "      <td>9800</td>\n",
              "      <td>9700</td>\n",
              "      <td>10500</td>\n",
              "      <td>6200</td>\n",
              "    </tr>\n",
              "    <tr>\n",
              "      <th>3</th>\n",
              "      <td>4</td>\n",
              "      <td>9400</td>\n",
              "      <td>11200</td>\n",
              "      <td>9800</td>\n",
              "      <td>9600</td>\n",
              "      <td>10800</td>\n",
              "      <td>6300</td>\n",
              "    </tr>\n",
              "    <tr>\n",
              "      <th>4</th>\n",
              "      <td>5</td>\n",
              "      <td>9600</td>\n",
              "      <td>11000</td>\n",
              "      <td>9800</td>\n",
              "      <td>9600</td>\n",
              "      <td>10900</td>\n",
              "      <td>6300</td>\n",
              "    </tr>\n",
              "    <tr>\n",
              "      <th>...</th>\n",
              "      <td>...</td>\n",
              "      <td>...</td>\n",
              "      <td>...</td>\n",
              "      <td>...</td>\n",
              "      <td>...</td>\n",
              "      <td>...</td>\n",
              "      <td>...</td>\n",
              "    </tr>\n",
              "    <tr>\n",
              "      <th>1045</th>\n",
              "      <td>1046</td>\n",
              "      <td>16500</td>\n",
              "      <td>15000</td>\n",
              "      <td>16000</td>\n",
              "      <td>18000</td>\n",
              "      <td>18000</td>\n",
              "      <td>8000</td>\n",
              "    </tr>\n",
              "    <tr>\n",
              "      <th>1046</th>\n",
              "      <td>1047</td>\n",
              "      <td>16500</td>\n",
              "      <td>15000</td>\n",
              "      <td>18000</td>\n",
              "      <td>17000</td>\n",
              "      <td>18000</td>\n",
              "      <td>8000</td>\n",
              "    </tr>\n",
              "    <tr>\n",
              "      <th>1047</th>\n",
              "      <td>1048</td>\n",
              "      <td>16000</td>\n",
              "      <td>16000</td>\n",
              "      <td>16000</td>\n",
              "      <td>17000</td>\n",
              "      <td>19500</td>\n",
              "      <td>8000</td>\n",
              "    </tr>\n",
              "    <tr>\n",
              "      <th>1048</th>\n",
              "      <td>1049</td>\n",
              "      <td>16500</td>\n",
              "      <td>17000</td>\n",
              "      <td>17000</td>\n",
              "      <td>17000</td>\n",
              "      <td>19500</td>\n",
              "      <td>8000</td>\n",
              "    </tr>\n",
              "    <tr>\n",
              "      <th>1049</th>\n",
              "      <td>1050</td>\n",
              "      <td>16500</td>\n",
              "      <td>14500</td>\n",
              "      <td>18500</td>\n",
              "      <td>17000</td>\n",
              "      <td>18500</td>\n",
              "      <td>8500</td>\n",
              "    </tr>\n",
              "  </tbody>\n",
              "</table>\n",
              "<p>1050 rows × 7 columns</p>\n",
              "</div>\n",
              "      <button class=\"colab-df-convert\" onclick=\"convertToInteractive('df-b814295a-2473-4bfb-8774-35015e50e194')\"\n",
              "              title=\"Convert this dataframe to an interactive table.\"\n",
              "              style=\"display:none;\">\n",
              "        \n",
              "  <svg xmlns=\"http://www.w3.org/2000/svg\" height=\"24px\"viewBox=\"0 0 24 24\"\n",
              "       width=\"24px\">\n",
              "    <path d=\"M0 0h24v24H0V0z\" fill=\"none\"/>\n",
              "    <path d=\"M18.56 5.44l.94 2.06.94-2.06 2.06-.94-2.06-.94-.94-2.06-.94 2.06-2.06.94zm-11 1L8.5 8.5l.94-2.06 2.06-.94-2.06-.94L8.5 2.5l-.94 2.06-2.06.94zm10 10l.94 2.06.94-2.06 2.06-.94-2.06-.94-.94-2.06-.94 2.06-2.06.94z\"/><path d=\"M17.41 7.96l-1.37-1.37c-.4-.4-.92-.59-1.43-.59-.52 0-1.04.2-1.43.59L10.3 9.45l-7.72 7.72c-.78.78-.78 2.05 0 2.83L4 21.41c.39.39.9.59 1.41.59.51 0 1.02-.2 1.41-.59l7.78-7.78 2.81-2.81c.8-.78.8-2.07 0-2.86zM5.41 20L4 18.59l7.72-7.72 1.47 1.35L5.41 20z\"/>\n",
              "  </svg>\n",
              "      </button>\n",
              "      \n",
              "  <style>\n",
              "    .colab-df-container {\n",
              "      display:flex;\n",
              "      flex-wrap:wrap;\n",
              "      gap: 12px;\n",
              "    }\n",
              "\n",
              "    .colab-df-convert {\n",
              "      background-color: #E8F0FE;\n",
              "      border: none;\n",
              "      border-radius: 50%;\n",
              "      cursor: pointer;\n",
              "      display: none;\n",
              "      fill: #1967D2;\n",
              "      height: 32px;\n",
              "      padding: 0 0 0 0;\n",
              "      width: 32px;\n",
              "    }\n",
              "\n",
              "    .colab-df-convert:hover {\n",
              "      background-color: #E2EBFA;\n",
              "      box-shadow: 0px 1px 2px rgba(60, 64, 67, 0.3), 0px 1px 3px 1px rgba(60, 64, 67, 0.15);\n",
              "      fill: #174EA6;\n",
              "    }\n",
              "\n",
              "    [theme=dark] .colab-df-convert {\n",
              "      background-color: #3B4455;\n",
              "      fill: #D2E3FC;\n",
              "    }\n",
              "\n",
              "    [theme=dark] .colab-df-convert:hover {\n",
              "      background-color: #434B5C;\n",
              "      box-shadow: 0px 1px 3px 1px rgba(0, 0, 0, 0.15);\n",
              "      filter: drop-shadow(0px 1px 2px rgba(0, 0, 0, 0.3));\n",
              "      fill: #FFFFFF;\n",
              "    }\n",
              "  </style>\n",
              "\n",
              "      <script>\n",
              "        const buttonEl =\n",
              "          document.querySelector('#df-b814295a-2473-4bfb-8774-35015e50e194 button.colab-df-convert');\n",
              "        buttonEl.style.display =\n",
              "          google.colab.kernel.accessAllowed ? 'block' : 'none';\n",
              "\n",
              "        async function convertToInteractive(key) {\n",
              "          const element = document.querySelector('#df-b814295a-2473-4bfb-8774-35015e50e194');\n",
              "          const dataTable =\n",
              "            await google.colab.kernel.invokeFunction('convertToInteractive',\n",
              "                                                     [key], {});\n",
              "          if (!dataTable) return;\n",
              "\n",
              "          const docLinkHtml = 'Like what you see? Visit the ' +\n",
              "            '<a target=\"_blank\" href=https://colab.research.google.com/notebooks/data_table.ipynb>data table notebook</a>'\n",
              "            + ' to learn more about interactive tables.';\n",
              "          element.innerHTML = '';\n",
              "          dataTable['output_type'] = 'display_data';\n",
              "          await google.colab.output.renderOutput(dataTable, element);\n",
              "          const docLink = document.createElement('div');\n",
              "          docLink.innerHTML = docLinkHtml;\n",
              "          element.appendChild(docLink);\n",
              "        }\n",
              "      </script>\n",
              "    </div>\n",
              "  </div>\n",
              "  "
            ]
          },
          "metadata": {},
          "execution_count": 51
        }
      ]
    },
    {
      "cell_type": "markdown",
      "source": [
        "SHAPE OF DATASET"
      ],
      "metadata": {
        "id": "ljN4xuwM2Nog"
      }
    },
    {
      "cell_type": "code",
      "source": [
        "df.shape"
      ],
      "metadata": {
        "colab": {
          "base_uri": "https://localhost:8080/"
        },
        "id": "ySu7BlmDDTkQ",
        "outputId": "85064352-95d3-4d88-b4c1-0d2c089a9d8c"
      },
      "execution_count": null,
      "outputs": [
        {
          "output_type": "execute_result",
          "data": {
            "text/plain": [
              "(1050, 7)"
            ]
          },
          "metadata": {},
          "execution_count": 52
        }
      ]
    },
    {
      "cell_type": "code",
      "source": [
        "df.describe()"
      ],
      "metadata": {
        "colab": {
          "base_uri": "https://localhost:8080/",
          "height": 300
        },
        "id": "HlN_ayRpDu1b",
        "outputId": "8aa54e31-fe12-480b-c3e7-8f103fb2e10e"
      },
      "execution_count": null,
      "outputs": [
        {
          "output_type": "execute_result",
          "data": {
            "text/plain": [
              "               Day    variety334    varietyNo5    variety273   varietyTeja  \\\n",
              "count  1050.000000   1050.000000   1050.000000   1050.000000   1050.000000   \n",
              "mean    525.500000   9087.761905   9414.809524   9754.238095  10770.333333   \n",
              "std     303.253195   3330.152314   2971.892031   3132.698889   3230.592620   \n",
              "min       1.000000   1000.000000   1700.000000   1500.000000   2900.000000   \n",
              "25%     263.250000   7000.000000   7300.000000   7500.000000   9000.000000   \n",
              "50%     525.500000   8700.000000   9200.000000   9500.000000  10300.000000   \n",
              "75%     787.750000  10800.000000  11300.000000  11700.000000  13000.000000   \n",
              "max    1050.000000  19900.000000  18800.000000  23000.000000  19500.000000   \n",
              "\n",
              "       varietyBadiga  varietyWhite  \n",
              "count    1050.000000   1050.000000  \n",
              "mean    10444.428571   5238.476190  \n",
              "std      3488.390784   1976.460752  \n",
              "min      1700.000000    600.000000  \n",
              "25%      7800.000000   3925.000000  \n",
              "50%     10000.000000   5400.000000  \n",
              "75%     13000.000000   7000.000000  \n",
              "max     20000.000000   9800.000000  "
            ],
            "text/html": [
              "\n",
              "  <div id=\"df-4286fa2e-d8ab-4973-8162-17edaa593df2\">\n",
              "    <div class=\"colab-df-container\">\n",
              "      <div>\n",
              "<style scoped>\n",
              "    .dataframe tbody tr th:only-of-type {\n",
              "        vertical-align: middle;\n",
              "    }\n",
              "\n",
              "    .dataframe tbody tr th {\n",
              "        vertical-align: top;\n",
              "    }\n",
              "\n",
              "    .dataframe thead th {\n",
              "        text-align: right;\n",
              "    }\n",
              "</style>\n",
              "<table border=\"1\" class=\"dataframe\">\n",
              "  <thead>\n",
              "    <tr style=\"text-align: right;\">\n",
              "      <th></th>\n",
              "      <th>Day</th>\n",
              "      <th>variety334</th>\n",
              "      <th>varietyNo5</th>\n",
              "      <th>variety273</th>\n",
              "      <th>varietyTeja</th>\n",
              "      <th>varietyBadiga</th>\n",
              "      <th>varietyWhite</th>\n",
              "    </tr>\n",
              "  </thead>\n",
              "  <tbody>\n",
              "    <tr>\n",
              "      <th>count</th>\n",
              "      <td>1050.000000</td>\n",
              "      <td>1050.000000</td>\n",
              "      <td>1050.000000</td>\n",
              "      <td>1050.000000</td>\n",
              "      <td>1050.000000</td>\n",
              "      <td>1050.000000</td>\n",
              "      <td>1050.000000</td>\n",
              "    </tr>\n",
              "    <tr>\n",
              "      <th>mean</th>\n",
              "      <td>525.500000</td>\n",
              "      <td>9087.761905</td>\n",
              "      <td>9414.809524</td>\n",
              "      <td>9754.238095</td>\n",
              "      <td>10770.333333</td>\n",
              "      <td>10444.428571</td>\n",
              "      <td>5238.476190</td>\n",
              "    </tr>\n",
              "    <tr>\n",
              "      <th>std</th>\n",
              "      <td>303.253195</td>\n",
              "      <td>3330.152314</td>\n",
              "      <td>2971.892031</td>\n",
              "      <td>3132.698889</td>\n",
              "      <td>3230.592620</td>\n",
              "      <td>3488.390784</td>\n",
              "      <td>1976.460752</td>\n",
              "    </tr>\n",
              "    <tr>\n",
              "      <th>min</th>\n",
              "      <td>1.000000</td>\n",
              "      <td>1000.000000</td>\n",
              "      <td>1700.000000</td>\n",
              "      <td>1500.000000</td>\n",
              "      <td>2900.000000</td>\n",
              "      <td>1700.000000</td>\n",
              "      <td>600.000000</td>\n",
              "    </tr>\n",
              "    <tr>\n",
              "      <th>25%</th>\n",
              "      <td>263.250000</td>\n",
              "      <td>7000.000000</td>\n",
              "      <td>7300.000000</td>\n",
              "      <td>7500.000000</td>\n",
              "      <td>9000.000000</td>\n",
              "      <td>7800.000000</td>\n",
              "      <td>3925.000000</td>\n",
              "    </tr>\n",
              "    <tr>\n",
              "      <th>50%</th>\n",
              "      <td>525.500000</td>\n",
              "      <td>8700.000000</td>\n",
              "      <td>9200.000000</td>\n",
              "      <td>9500.000000</td>\n",
              "      <td>10300.000000</td>\n",
              "      <td>10000.000000</td>\n",
              "      <td>5400.000000</td>\n",
              "    </tr>\n",
              "    <tr>\n",
              "      <th>75%</th>\n",
              "      <td>787.750000</td>\n",
              "      <td>10800.000000</td>\n",
              "      <td>11300.000000</td>\n",
              "      <td>11700.000000</td>\n",
              "      <td>13000.000000</td>\n",
              "      <td>13000.000000</td>\n",
              "      <td>7000.000000</td>\n",
              "    </tr>\n",
              "    <tr>\n",
              "      <th>max</th>\n",
              "      <td>1050.000000</td>\n",
              "      <td>19900.000000</td>\n",
              "      <td>18800.000000</td>\n",
              "      <td>23000.000000</td>\n",
              "      <td>19500.000000</td>\n",
              "      <td>20000.000000</td>\n",
              "      <td>9800.000000</td>\n",
              "    </tr>\n",
              "  </tbody>\n",
              "</table>\n",
              "</div>\n",
              "      <button class=\"colab-df-convert\" onclick=\"convertToInteractive('df-4286fa2e-d8ab-4973-8162-17edaa593df2')\"\n",
              "              title=\"Convert this dataframe to an interactive table.\"\n",
              "              style=\"display:none;\">\n",
              "        \n",
              "  <svg xmlns=\"http://www.w3.org/2000/svg\" height=\"24px\"viewBox=\"0 0 24 24\"\n",
              "       width=\"24px\">\n",
              "    <path d=\"M0 0h24v24H0V0z\" fill=\"none\"/>\n",
              "    <path d=\"M18.56 5.44l.94 2.06.94-2.06 2.06-.94-2.06-.94-.94-2.06-.94 2.06-2.06.94zm-11 1L8.5 8.5l.94-2.06 2.06-.94-2.06-.94L8.5 2.5l-.94 2.06-2.06.94zm10 10l.94 2.06.94-2.06 2.06-.94-2.06-.94-.94-2.06-.94 2.06-2.06.94z\"/><path d=\"M17.41 7.96l-1.37-1.37c-.4-.4-.92-.59-1.43-.59-.52 0-1.04.2-1.43.59L10.3 9.45l-7.72 7.72c-.78.78-.78 2.05 0 2.83L4 21.41c.39.39.9.59 1.41.59.51 0 1.02-.2 1.41-.59l7.78-7.78 2.81-2.81c.8-.78.8-2.07 0-2.86zM5.41 20L4 18.59l7.72-7.72 1.47 1.35L5.41 20z\"/>\n",
              "  </svg>\n",
              "      </button>\n",
              "      \n",
              "  <style>\n",
              "    .colab-df-container {\n",
              "      display:flex;\n",
              "      flex-wrap:wrap;\n",
              "      gap: 12px;\n",
              "    }\n",
              "\n",
              "    .colab-df-convert {\n",
              "      background-color: #E8F0FE;\n",
              "      border: none;\n",
              "      border-radius: 50%;\n",
              "      cursor: pointer;\n",
              "      display: none;\n",
              "      fill: #1967D2;\n",
              "      height: 32px;\n",
              "      padding: 0 0 0 0;\n",
              "      width: 32px;\n",
              "    }\n",
              "\n",
              "    .colab-df-convert:hover {\n",
              "      background-color: #E2EBFA;\n",
              "      box-shadow: 0px 1px 2px rgba(60, 64, 67, 0.3), 0px 1px 3px 1px rgba(60, 64, 67, 0.15);\n",
              "      fill: #174EA6;\n",
              "    }\n",
              "\n",
              "    [theme=dark] .colab-df-convert {\n",
              "      background-color: #3B4455;\n",
              "      fill: #D2E3FC;\n",
              "    }\n",
              "\n",
              "    [theme=dark] .colab-df-convert:hover {\n",
              "      background-color: #434B5C;\n",
              "      box-shadow: 0px 1px 3px 1px rgba(0, 0, 0, 0.15);\n",
              "      filter: drop-shadow(0px 1px 2px rgba(0, 0, 0, 0.3));\n",
              "      fill: #FFFFFF;\n",
              "    }\n",
              "  </style>\n",
              "\n",
              "      <script>\n",
              "        const buttonEl =\n",
              "          document.querySelector('#df-4286fa2e-d8ab-4973-8162-17edaa593df2 button.colab-df-convert');\n",
              "        buttonEl.style.display =\n",
              "          google.colab.kernel.accessAllowed ? 'block' : 'none';\n",
              "\n",
              "        async function convertToInteractive(key) {\n",
              "          const element = document.querySelector('#df-4286fa2e-d8ab-4973-8162-17edaa593df2');\n",
              "          const dataTable =\n",
              "            await google.colab.kernel.invokeFunction('convertToInteractive',\n",
              "                                                     [key], {});\n",
              "          if (!dataTable) return;\n",
              "\n",
              "          const docLinkHtml = 'Like what you see? Visit the ' +\n",
              "            '<a target=\"_blank\" href=https://colab.research.google.com/notebooks/data_table.ipynb>data table notebook</a>'\n",
              "            + ' to learn more about interactive tables.';\n",
              "          element.innerHTML = '';\n",
              "          dataTable['output_type'] = 'display_data';\n",
              "          await google.colab.output.renderOutput(dataTable, element);\n",
              "          const docLink = document.createElement('div');\n",
              "          docLink.innerHTML = docLinkHtml;\n",
              "          element.appendChild(docLink);\n",
              "        }\n",
              "      </script>\n",
              "    </div>\n",
              "  </div>\n",
              "  "
            ]
          },
          "metadata": {},
          "execution_count": 53
        }
      ]
    },
    {
      "cell_type": "code",
      "source": [
        "df.info()"
      ],
      "metadata": {
        "colab": {
          "base_uri": "https://localhost:8080/"
        },
        "id": "4EoYG9JzDvLL",
        "outputId": "e47719d7-764c-4e1c-fdee-49fee1a9b763"
      },
      "execution_count": null,
      "outputs": [
        {
          "output_type": "stream",
          "name": "stdout",
          "text": [
            "<class 'pandas.core.frame.DataFrame'>\n",
            "RangeIndex: 1050 entries, 0 to 1049\n",
            "Data columns (total 7 columns):\n",
            " #   Column         Non-Null Count  Dtype\n",
            "---  ------         --------------  -----\n",
            " 0   Day            1050 non-null   int64\n",
            " 1   variety334     1050 non-null   int64\n",
            " 2   varietyNo5     1050 non-null   int64\n",
            " 3   variety273     1050 non-null   int64\n",
            " 4   varietyTeja    1050 non-null   int64\n",
            " 5   varietyBadiga  1050 non-null   int64\n",
            " 6   varietyWhite   1050 non-null   int64\n",
            "dtypes: int64(7)\n",
            "memory usage: 57.5 KB\n"
          ]
        }
      ]
    },
    {
      "cell_type": "code",
      "source": [
        "df.isnull().sum()"
      ],
      "metadata": {
        "colab": {
          "base_uri": "https://localhost:8080/"
        },
        "id": "hUfionwvD2Ek",
        "outputId": "826322fe-8d1f-4619-9112-6b3f56ac0748"
      },
      "execution_count": null,
      "outputs": [
        {
          "output_type": "execute_result",
          "data": {
            "text/plain": [
              "Day              0\n",
              "variety334       0\n",
              "varietyNo5       0\n",
              "variety273       0\n",
              "varietyTeja      0\n",
              "varietyBadiga    0\n",
              "varietyWhite     0\n",
              "dtype: int64"
            ]
          },
          "metadata": {},
          "execution_count": 55
        }
      ]
    },
    {
      "cell_type": "code",
      "source": [
        "print(\"Enter the mirchi variety\",end=\"\")\n",
        "\"\"\n",
        "variety=input()"
      ],
      "metadata": {
        "id": "7yl4vpgt8W2_",
        "colab": {
          "base_uri": "https://localhost:8080/"
        },
        "outputId": "7f506c6f-93f4-4f32-820d-c82c8fcdcc09"
      },
      "execution_count": null,
      "outputs": [
        {
          "name": "stdout",
          "output_type": "stream",
          "text": [
            "Enter the mirchi varietyvariety334\n"
          ]
        }
      ]
    },
    {
      "cell_type": "code",
      "source": [
        "\n",
        "Y = df[variety]\n",
        "X = df['Day']"
      ],
      "metadata": {
        "id": "F67riPf9sKos"
      },
      "execution_count": null,
      "outputs": []
    },
    {
      "cell_type": "code",
      "source": [
        "#X=X.reshape(len(X),1)\n",
        "#Y=Y.reshape(len(Y),1)\n",
        "Y=Y.values.reshape(-1,1)\n",
        "X=X.values.reshape(-1,1)"
      ],
      "metadata": {
        "id": "5n1kA4B1sRW1"
      },
      "execution_count": null,
      "outputs": []
    },
    {
      "cell_type": "code",
      "source": [
        "X_train = X[:len(X)]\n",
        "X_test = X[len(X):]"
      ],
      "metadata": {
        "id": "s8LzR6l6sVbM"
      },
      "execution_count": null,
      "outputs": []
    },
    {
      "cell_type": "code",
      "source": [
        "\n",
        "Y_train = Y[:len(Y)]\n",
        "Y_test = Y[(len(Y)):]\n"
      ],
      "metadata": {
        "id": "ve-mkPTFs316"
      },
      "execution_count": null,
      "outputs": []
    },
    {
      "cell_type": "code",
      "source": [
        "from sklearn.model_selection import train_test_split\n",
        "X_train, X_test, Y_train, Y_test = train_test_split(X, Y, test_size = 0.9, random_state = 0)"
      ],
      "metadata": {
        "id": "oVUECd-mw-Nd"
      },
      "execution_count": null,
      "outputs": []
    },
    {
      "cell_type": "code",
      "source": [
        "\n",
        "from sklearn.linear_model import LinearRegression\n",
        "regressor = LinearRegression()\n",
        "regressor.fit(X_train, Y_train)"
      ],
      "metadata": {
        "colab": {
          "base_uri": "https://localhost:8080/"
        },
        "id": "hK3V1L1dwSby",
        "outputId": "98b56ac3-34ef-418c-ac54-c3caece3cfbc"
      },
      "execution_count": null,
      "outputs": [
        {
          "output_type": "execute_result",
          "data": {
            "text/plain": [
              "LinearRegression()"
            ]
          },
          "metadata": {},
          "execution_count": 78
        }
      ]
    },
    {
      "cell_type": "code",
      "source": [
        "y_pred = regressor.predict(X_test)"
      ],
      "metadata": {
        "id": "bQX6Z0rKwhR8"
      },
      "execution_count": null,
      "outputs": []
    },
    {
      "cell_type": "code",
      "source": [
        "model = LinearRegression()\n",
        "model.fit(X_train, Y_train)\n",
        "\n",
        "print(f\"Intercept : {model.intercept_}\")\n",
        "print(f\"Coefficient : {model.coef_}\")"
      ],
      "metadata": {
        "colab": {
          "base_uri": "https://localhost:8080/"
        },
        "id": "63teDRqxSNcW",
        "outputId": "eafc1731-380f-45b7-9a4e-b0e2c9f3cb60"
      },
      "execution_count": null,
      "outputs": [
        {
          "output_type": "stream",
          "name": "stdout",
          "text": [
            "Intercept : [6062.70928942]\n",
            "Coefficient : [[5.81146445]]\n"
          ]
        }
      ]
    },
    {
      "cell_type": "code",
      "source": [
        "plt.scatter(X_test, Y_test,  color='black')\n",
        "plt.title('Test Data')\n",
        "plt.xlabel('Day')\n",
        "plt.ylabel('varietyWhite')\n",
        "plt.xticks(())\n",
        "plt.yticks(())\n",
        "\n",
        "plt.show()"
      ],
      "metadata": {
        "colab": {
          "base_uri": "https://localhost:8080/",
          "height": 278
        },
        "id": "KdDRM-8eAGDn",
        "outputId": "6789d8d6-990b-4874-9b71-5008f64d9b9a"
      },
      "execution_count": null,
      "outputs": [
        {
          "output_type": "display_data",
          "data": {
            "text/plain": [
              "<Figure size 432x288 with 1 Axes>"
            ],
            "image/png": "[encoded data removed]"
          },
          "metadata": {}
        }
      ]
    },
    {
      "cell_type": "code",
      "source": [
        "plt.scatter(X_test, Y_test,  color='black')\n",
        "plt.plot(X_train, regressor.predict(X_train), color = 'blue')\n",
        "plt.title('Test Data')\n",
        "plt.xlabel('Day')\n",
        "plt.ylabel(variety)\n",
        "plt.xticks(())\n",
        "plt.yticks(())\n",
        "\n",
        "plt.show()"
      ],
      "metadata": {
        "id": "dum9VAa9s8qr",
        "colab": {
          "base_uri": "https://localhost:8080/",
          "height": 278
        },
        "outputId": "59b145f6-095b-44c8-e678-665e79ee9562"
      },
      "execution_count": null,
      "outputs": [
        {
          "output_type": "display_data",
          "data": {
            "text/plain": [
              "<Figure size 432x288 with 1 Axes>"
            ],
            "image/png": "[encoded data removed]"
          },
          "metadata": {}
        }
      ]
    },
    {
      "cell_type": "code",
      "source": [
        "regr = linear_model.LinearRegression()\n",
        "\n",
        "# Train the model using the training sets\n",
        "regr.fit(X_train, Y_train)\n",
        "plt.plot(X_train, regressor.predict(X_train), color = 'blue')\n",
        "\n",
        "# Plot outputs\n",
        "#plt.plot(X_test, regr.predict(X_test), color='red',linewidth=1)\n",
        "plt.show()"
      ],
      "metadata": {
        "colab": {
          "base_uri": "https://localhost:8080/",
          "height": 265
        },
        "id": "1QLRQOJttJSp",
        "outputId": "eced9f45-446c-4607-edc8-ab0aa484eebd"
      },
      "execution_count": null,
      "outputs": [
        {
          "output_type": "display_data",
          "data": {
            "text/plain": [
              "<Figure size 432x288 with 1 Axes>"
            ],
            "image/png": "[encoded data removed]"
          },
          "metadata": {
            "needs_background": "light"
          }
        }
      ]
    },
    {
      "cell_type": "code",
      "source": [
        "\n",
        "d=eval(input(\"Enter the day you want to predict\"))\n",
        "print(regr.predict([[d]]))"
      ],
      "metadata": {
        "id": "3PwJ9kkOtTvi",
        "colab": {
          "base_uri": "https://localhost:8080/"
        },
        "outputId": "cd5a548a-2e9b-4deb-96f9-dfca21bdcd7e"
      },
      "execution_count": null,
      "outputs": [
        {
          "output_type": "stream",
          "name": "stdout",
          "text": [
            "Enter the day you want to predict4\n",
            "[[6085.95514721]]\n"
          ]
        }
      ]
    },
    {
      "cell_type": "code",
      "source": [],
      "metadata": {
        "id": "3yoE6Xtf8-i5"
      },
      "execution_count": null,
      "outputs": []
    },
    {
      "cell_type": "code",
      "source": [],
      "metadata": {
        "id": "f6QlHwW4F2L1"
      },
      "execution_count": null,
      "outputs": []
    }
  ]
}